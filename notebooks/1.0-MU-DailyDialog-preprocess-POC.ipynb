{
 "cells": [
  {
   "cell_type": "markdown",
   "metadata": {},
   "source": [
    "# About\n",
    "\n",
    "Proof of concept notebook for obtaining and preprocessing DailyDialog data from \n",
    "HuggingFace"
   ]
  },
  {
   "cell_type": "markdown",
   "metadata": {},
   "source": [
    "## Setup"
   ]
  },
  {
   "cell_type": "code",
   "execution_count": 2,
   "metadata": {},
   "outputs": [],
   "source": [
    "# Download libraries for environment. \n",
    "\n",
    "import sys \n",
    "import os \n",
    "\n",
    "# Env. vars to check if the notebook is running on colab, kaggle etc. \n",
    "IS_COLAB = \"google.colab\" in sys.modules \n",
    "IS_KAGGLE = \"kaggle_secrets\" in sys.modules \n",
    "IS_LOCAL = not (IS_COLAB or IS_KAGGLE)\n",
    "\n",
    "if IS_COLAB:\n",
    "    # Install the packages \n",
    "    %pip install -q -U tensorflow-addons\n",
    "    %pip install -q -U transformers\n",
    "    %pip install -q -U datasets\n",
    "    print(\"You can safely ignore the package incompatibility errors.\")\n",
    "    # Mount the drive \n",
    "    from google.colab import drive \n",
    "    drive.mount(\"/drive\")"
   ]
  },
  {
   "cell_type": "code",
   "execution_count": 18,
   "metadata": {},
   "outputs": [],
   "source": [
    "\n",
    "import os\n",
    "import pandas as pd\n",
    "import numpy as np\n",
    "from tqdm import tqdm \n",
    "\n",
    "import random \n",
    "import shutil \n",
    "# Scikit-Learn ≥0.20 is required\n",
    "import sklearn\n",
    "assert sklearn.__version__ >= \"0.20\"\n",
    "\n",
    "\n",
    "# Pytorch imports \n",
    "import torch\n",
    "import torch.nn as nn \n",
    "from torch.utils.data import Dataset, DataLoader\n",
    "\n",
    "# Others \n",
    "import glob \n",
    "\n",
    "# Transformers \n",
    "import transformers \n",
    "from transformers import TextDataset,DataCollatorForLanguageModeling\n",
    "from transformers import Trainer, TrainingArguments,AutoModelWithLMHead\n",
    "from transformers import AutoTokenizer\n",
    "import datasets \n",
    "\n",
    "# To plot pretty figures\n",
    "%matplotlib inline\n",
    "import matplotlib as mpl\n",
    "import matplotlib.pyplot as plt\n",
    "mpl.rc('axes', labelsize=14)\n",
    "mpl.rc('xtick', labelsize=12)\n",
    "mpl.rc('ytick', labelsize=12)\n",
    "\n"
   ]
  },
  {
   "cell_type": "code",
   "execution_count": 27,
   "metadata": {},
   "outputs": [
    {
     "data": {
      "text/plain": [
       "<torch._C.Generator at 0x7f792fe6b450>"
      ]
     },
     "execution_count": 27,
     "metadata": {},
     "output_type": "execute_result"
    }
   ],
   "source": [
    "# --  Set environment global vars. \n",
    "\n",
    "# Shared env. vars. \n",
    "GLOBAL_SEED = 42 \n",
    "IS_CUDA_ENV = torch.cuda.is_available()\n",
    "GLOBAL_DEVICE = torch.device('cuda') if IS_CUDA_ENV else torch.device('cpu')\n",
    "\n",
    "if IS_LOCAL:\n",
    "    SMALL_DATASET = True if not IS_CUDA_ENV else False # Use a small dataset if no cuda env. \n",
    "\n",
    "if IS_COLAB:\n",
    "    SMALL_DATASET = False \n",
    "\n",
    "# to make this notebook's output stable across runs\n",
    "np.random.seed(GLOBAL_SEED) \n",
    "torch.manual_seed(GLOBAL_SEED)"
   ]
  },
  {
   "cell_type": "code",
   "execution_count": 70,
   "metadata": {},
   "outputs": [],
   "source": [
    "# Project Paths\n",
    "PROJECT_ROOT_DIR = \"/Users/muhammadumair/Documents/Repositories/mumair01-repos/GPT-Monologue-to-Dialogue\" \n",
    "PROCESSED_DATA_DIR = os.path.join(PROJECT_ROOT_DIR,\"data\", \"processed\", \"daily_dialog_poc\")\n"
   ]
  },
  {
   "cell_type": "code",
   "execution_count": 71,
   "metadata": {},
   "outputs": [],
   "source": [
    "# Methods for GPU Support \n",
    "\n",
    "def to_device(data, device):\n",
    "    \"\"\"Move tensor(s) to the given device\"\"\"\n",
    "    if isinstance(data, (list, tuple)):\n",
    "        return [to_device(x,device) for x in data] \n",
    "    return data.to(device, non_blocking=True) \n",
    "\n",
    "class DeviceDataLoader():\n",
    "    \"\"\"Wrapper for a dataloader to move all the data to the specified device\"\"\"\n",
    "    def __init__(self, dl, device):\n",
    "        self.dl = dl \n",
    "        self.device = device \n",
    "\n",
    "    def __iter__(self):\n",
    "        for b in self.dl:\n",
    "            yield to_device(b, self.device)\n",
    "    \n",
    "    def __len__(self):\n",
    "        return len(self.dl)\n"
   ]
  },
  {
   "cell_type": "markdown",
   "metadata": {},
   "source": [
    "## DailyDialogue - HuggingFace "
   ]
  },
  {
   "cell_type": "code",
   "execution_count": 72,
   "metadata": {},
   "outputs": [],
   "source": [
    "# Number of data items in the small version of this dataset. \n",
    "SMALL_DATASET_SIZE = 3 \n"
   ]
  },
  {
   "cell_type": "code",
   "execution_count": 73,
   "metadata": {},
   "outputs": [],
   "source": [
    "from datasets import list_datasets, load_dataset"
   ]
  },
  {
   "cell_type": "code",
   "execution_count": 74,
   "metadata": {},
   "outputs": [
    {
     "name": "stderr",
     "output_type": "stream",
     "text": [
      "Using custom data configuration default\n",
      "Reusing dataset daily_dialog (/Users/muhammadumair/.cache/huggingface/datasets/daily_dialog/default/1.0.0/1d0a58c7f2a4dab5ed9d01dbde8e55e0058e589ab81fce5c2df929ea810eabcd)\n"
     ]
    },
    {
     "data": {
      "application/vnd.jupyter.widget-view+json": {
       "model_id": "41778fe6dbd94d52b332225e86ff9dc1",
       "version_major": 2,
       "version_minor": 0
      },
      "text/plain": [
       "  0%|          | 0/3 [00:00<?, ?it/s]"
      ]
     },
     "metadata": {},
     "output_type": "display_data"
    }
   ],
   "source": [
    "# NOTE: Download hugging face version: https://huggingface.co/datasets/daily_dialog\n",
    "dataset = load_dataset('daily_dialog')"
   ]
  },
  {
   "cell_type": "code",
   "execution_count": 75,
   "metadata": {},
   "outputs": [],
   "source": [
    "# Separating into splits \n",
    "train_dataset_full = dataset[\"train\"]['dialog'] \n",
    "test_dataset_full = dataset[\"test\"]['dialog'] \n",
    "val_dataset_full = dataset[\"validation\"]['dialog'] "
   ]
  },
  {
   "cell_type": "code",
   "execution_count": 76,
   "metadata": {},
   "outputs": [],
   "source": [
    "# Subset the data if running locally. \n",
    "if SMALL_DATASET:\n",
    "    train_dataset_full = train_dataset_full[:SMALL_DATASET_SIZE]\n",
    "    test_dataset_full = test_dataset_full[:SMALL_DATASET_SIZE]\n",
    "    val_dataset_full = val_dataset_full[:SMALL_DATASET_SIZE]\n",
    "    \n"
   ]
  },
  {
   "cell_type": "code",
   "execution_count": 77,
   "metadata": {},
   "outputs": [
    {
     "data": {
      "text/plain": [
       "['Say , Jim , how about going for a few beers after dinner ? ',\n",
       " ' You know that is tempting but is really not good for our fitness . ',\n",
       " ' What do you mean ? It will help us to relax . ',\n",
       " \" Do you really think so ? I don't . It will just make us fat and act silly . Remember last time ? \",\n",
       " \" I guess you are right.But what shall we do ? I don't feel like sitting at home . \",\n",
       " ' I suggest a walk over to the gym where we can play singsong and meet some of our friends . ',\n",
       " \" That's a good idea . I hear Mary and Sally often go there to play pingpong.Perhaps we can make a foursome with them . \",\n",
       " ' Sounds great to me ! If they are willing , we could ask them to go dancing with us.That is excellent exercise and fun , too . ',\n",
       " \" Good.Let ' s go now . \",\n",
       " ' All right . ']"
      ]
     },
     "execution_count": 77,
     "metadata": {},
     "output_type": "execute_result"
    }
   ],
   "source": [
    "# Each data item is a list of utterances in a single conversation. \n",
    "train_dataset_full[0]"
   ]
  },
  {
   "cell_type": "code",
   "execution_count": 78,
   "metadata": {},
   "outputs": [],
   "source": [
    "import re \n",
    "from sklearn.utils import shuffle \n",
    "from copy import deepcopy \n",
    "import itertools "
   ]
  },
  {
   "cell_type": "code",
   "execution_count": 151,
   "metadata": {},
   "outputs": [],
   "source": [
    "# Define the start and end tokens \n",
    "SPEAKER_TOK = \"SP{}\" \n",
    "CONV_START_TOK = \"<START>\"\n",
    "CONV_END_TOK = \"<END>\""
   ]
  },
  {
   "cell_type": "code",
   "execution_count": 160,
   "metadata": {},
   "outputs": [],
   "source": [
    "def preprocess_huggingface_daily_dialog(dataset, num_speakers=2, seed=GLOBAL_SEED):\n",
    "    \"\"\"Preprocess the huggingface daily dialogue corpus\"\"\"\n",
    "    dataset = deepcopy(dataset)\n",
    "    dataset = shuffle(dataset,random_state=GLOBAL_SEED)\n",
    "    data = [] \n",
    "    pbar = tqdm(desc=\"Preprocessing DailyDialog\", total=len(dataset))\n",
    "    for i in range(len(dataset)):\n",
    "        conv = dataset[i] \n",
    "        data.append((i,CONV_START_TOK))\n",
    "        for j in range(len(conv)):\n",
    "            target_str = conv[j].strip() \n",
    "            split_toks = re.split(r\"\\. |\\? \", target_str)\n",
    "            split_toks = [tok for tok in split_toks if len(tok) > 0] \n",
    "            # Remove all punctuation and lowercase all \n",
    "            split_toks = [re.sub(r'[^\\w\\s]', '', tok).lower() for tok in split_toks]\n",
    "            # Remove any double whitespaces \n",
    "            split_toks = [re.sub(' +', ' ', tok).lower() for tok in split_toks]\n",
    "            # Add speaker labels for each turn \n",
    "            # Add the speaker tokens for each turn \n",
    "            split_toks = [ \"[SP{}] \".format((j % num_speakers) + 1) + tok + \\\n",
    "                    \"[SP{}]\".format((j % num_speakers) + 1) for tok in split_toks]\n",
    "            data.extend([(i, tok) for tok in split_toks])\n",
    "        data.append((i,CONV_END_TOK))\n",
    "        pbar.update()  \n",
    "    # Create dataframe \n",
    "    dataset_df = pd.DataFrame(data, columns=[\"convID\", \"Utterance\"])\n",
    "    return dataset_df\n",
    "\n"
   ]
  },
  {
   "cell_type": "code",
   "execution_count": 161,
   "metadata": {},
   "outputs": [],
   "source": [
    "from typing import List "
   ]
  },
  {
   "cell_type": "code",
   "execution_count": 162,
   "metadata": {},
   "outputs": [
    {
     "name": "stderr",
     "output_type": "stream",
     "text": [
      "\n",
      "\n",
      "\n",
      "\n",
      "Preprocessing DailyDialog: 100%|██████████| 3/3 [00:00<00:00, 2606.24it/s]\n"
     ]
    },
    {
     "data": {
      "text/html": [
       "<div>\n",
       "<style scoped>\n",
       "    .dataframe tbody tr th:only-of-type {\n",
       "        vertical-align: middle;\n",
       "    }\n",
       "\n",
       "    .dataframe tbody tr th {\n",
       "        vertical-align: top;\n",
       "    }\n",
       "\n",
       "    .dataframe thead th {\n",
       "        text-align: right;\n",
       "    }\n",
       "</style>\n",
       "<table border=\"1\" class=\"dataframe\">\n",
       "  <thead>\n",
       "    <tr style=\"text-align: right;\">\n",
       "      <th></th>\n",
       "      <th>convID</th>\n",
       "      <th>Utterance</th>\n",
       "    </tr>\n",
       "  </thead>\n",
       "  <tbody>\n",
       "    <tr>\n",
       "      <th>0</th>\n",
       "      <td>0</td>\n",
       "      <td>&lt;START&gt;</td>\n",
       "    </tr>\n",
       "    <tr>\n",
       "      <th>1</th>\n",
       "      <td>0</td>\n",
       "      <td>[SP1] say jim how about going for a few beers ...</td>\n",
       "    </tr>\n",
       "    <tr>\n",
       "      <th>2</th>\n",
       "      <td>0</td>\n",
       "      <td>[SP2] you know that is tempting but is really ...</td>\n",
       "    </tr>\n",
       "    <tr>\n",
       "      <th>3</th>\n",
       "      <td>0</td>\n",
       "      <td>[SP1] what do you mean [SP1]</td>\n",
       "    </tr>\n",
       "    <tr>\n",
       "      <th>4</th>\n",
       "      <td>0</td>\n",
       "      <td>[SP1] it will help us to relax [SP1]</td>\n",
       "    </tr>\n",
       "    <tr>\n",
       "      <th>5</th>\n",
       "      <td>0</td>\n",
       "      <td>[SP2] do you really think so [SP2]</td>\n",
       "    </tr>\n",
       "    <tr>\n",
       "      <th>6</th>\n",
       "      <td>0</td>\n",
       "      <td>[SP2] i dont [SP2]</td>\n",
       "    </tr>\n",
       "    <tr>\n",
       "      <th>7</th>\n",
       "      <td>0</td>\n",
       "      <td>[SP2] it will just make us fat and act silly [...</td>\n",
       "    </tr>\n",
       "    <tr>\n",
       "      <th>8</th>\n",
       "      <td>0</td>\n",
       "      <td>[SP2] remember last time [SP2]</td>\n",
       "    </tr>\n",
       "    <tr>\n",
       "      <th>9</th>\n",
       "      <td>0</td>\n",
       "      <td>[SP1] i guess you are rightbut what shall we d...</td>\n",
       "    </tr>\n",
       "    <tr>\n",
       "      <th>10</th>\n",
       "      <td>0</td>\n",
       "      <td>[SP1] i dont feel like sitting at home [SP1]</td>\n",
       "    </tr>\n",
       "    <tr>\n",
       "      <th>11</th>\n",
       "      <td>0</td>\n",
       "      <td>[SP2] i suggest a walk over to the gym where w...</td>\n",
       "    </tr>\n",
       "    <tr>\n",
       "      <th>12</th>\n",
       "      <td>0</td>\n",
       "      <td>[SP1] thats a good idea [SP1]</td>\n",
       "    </tr>\n",
       "    <tr>\n",
       "      <th>13</th>\n",
       "      <td>0</td>\n",
       "      <td>[SP1] i hear mary and sally often go there to ...</td>\n",
       "    </tr>\n",
       "    <tr>\n",
       "      <th>14</th>\n",
       "      <td>0</td>\n",
       "      <td>[SP2] sounds great to me if they are willing w...</td>\n",
       "    </tr>\n",
       "    <tr>\n",
       "      <th>15</th>\n",
       "      <td>0</td>\n",
       "      <td>[SP1] goodlet s go now [SP1]</td>\n",
       "    </tr>\n",
       "    <tr>\n",
       "      <th>16</th>\n",
       "      <td>0</td>\n",
       "      <td>[SP2] all right [SP2]</td>\n",
       "    </tr>\n",
       "    <tr>\n",
       "      <th>17</th>\n",
       "      <td>0</td>\n",
       "      <td>&lt;END&gt;</td>\n",
       "    </tr>\n",
       "    <tr>\n",
       "      <th>18</th>\n",
       "      <td>1</td>\n",
       "      <td>&lt;START&gt;</td>\n",
       "    </tr>\n",
       "    <tr>\n",
       "      <th>19</th>\n",
       "      <td>1</td>\n",
       "      <td>[SP1] can you do pushups [SP1]</td>\n",
       "    </tr>\n",
       "    <tr>\n",
       "      <th>20</th>\n",
       "      <td>1</td>\n",
       "      <td>[SP2] of course i can [SP2]</td>\n",
       "    </tr>\n",
       "    <tr>\n",
       "      <th>21</th>\n",
       "      <td>1</td>\n",
       "      <td>[SP2] its a piece of cake believe it or not i ...</td>\n",
       "    </tr>\n",
       "    <tr>\n",
       "      <th>22</th>\n",
       "      <td>1</td>\n",
       "      <td>[SP1] really [SP1]</td>\n",
       "    </tr>\n",
       "    <tr>\n",
       "      <th>23</th>\n",
       "      <td>1</td>\n",
       "      <td>[SP1] i think thats impossible [SP1]</td>\n",
       "    </tr>\n",
       "    <tr>\n",
       "      <th>24</th>\n",
       "      <td>1</td>\n",
       "      <td>[SP2] you mean 30 pushups [SP2]</td>\n",
       "    </tr>\n",
       "    <tr>\n",
       "      <th>25</th>\n",
       "      <td>1</td>\n",
       "      <td>[SP1] yeah [SP1]</td>\n",
       "    </tr>\n",
       "    <tr>\n",
       "      <th>26</th>\n",
       "      <td>1</td>\n",
       "      <td>[SP2] its easy [SP2]</td>\n",
       "    </tr>\n",
       "    <tr>\n",
       "      <th>27</th>\n",
       "      <td>1</td>\n",
       "      <td>[SP2] if you do exercise everyday you can make...</td>\n",
       "    </tr>\n",
       "    <tr>\n",
       "      <th>28</th>\n",
       "      <td>1</td>\n",
       "      <td>&lt;END&gt;</td>\n",
       "    </tr>\n",
       "    <tr>\n",
       "      <th>29</th>\n",
       "      <td>2</td>\n",
       "      <td>&lt;START&gt;</td>\n",
       "    </tr>\n",
       "    <tr>\n",
       "      <th>30</th>\n",
       "      <td>2</td>\n",
       "      <td>[SP1] can you study with the radio on [SP1]</td>\n",
       "    </tr>\n",
       "    <tr>\n",
       "      <th>31</th>\n",
       "      <td>2</td>\n",
       "      <td>[SP2] no i listen to background music [SP2]</td>\n",
       "    </tr>\n",
       "    <tr>\n",
       "      <th>32</th>\n",
       "      <td>2</td>\n",
       "      <td>[SP1] what is the difference [SP1]</td>\n",
       "    </tr>\n",
       "    <tr>\n",
       "      <th>33</th>\n",
       "      <td>2</td>\n",
       "      <td>[SP2] the radio has too many comerials [SP2]</td>\n",
       "    </tr>\n",
       "    <tr>\n",
       "      <th>34</th>\n",
       "      <td>2</td>\n",
       "      <td>[SP1] thats true but then you have to buy a re...</td>\n",
       "    </tr>\n",
       "    <tr>\n",
       "      <th>35</th>\n",
       "      <td>2</td>\n",
       "      <td>&lt;END&gt;</td>\n",
       "    </tr>\n",
       "  </tbody>\n",
       "</table>\n",
       "</div>"
      ],
      "text/plain": [
       "    convID                                          Utterance\n",
       "0        0                                            <START>\n",
       "1        0  [SP1] say jim how about going for a few beers ...\n",
       "2        0  [SP2] you know that is tempting but is really ...\n",
       "3        0                       [SP1] what do you mean [SP1]\n",
       "4        0               [SP1] it will help us to relax [SP1]\n",
       "5        0                 [SP2] do you really think so [SP2]\n",
       "6        0                                 [SP2] i dont [SP2]\n",
       "7        0  [SP2] it will just make us fat and act silly [...\n",
       "8        0                     [SP2] remember last time [SP2]\n",
       "9        0  [SP1] i guess you are rightbut what shall we d...\n",
       "10       0       [SP1] i dont feel like sitting at home [SP1]\n",
       "11       0  [SP2] i suggest a walk over to the gym where w...\n",
       "12       0                      [SP1] thats a good idea [SP1]\n",
       "13       0  [SP1] i hear mary and sally often go there to ...\n",
       "14       0  [SP2] sounds great to me if they are willing w...\n",
       "15       0                       [SP1] goodlet s go now [SP1]\n",
       "16       0                              [SP2] all right [SP2]\n",
       "17       0                                              <END>\n",
       "18       1                                            <START>\n",
       "19       1                     [SP1] can you do pushups [SP1]\n",
       "20       1                        [SP2] of course i can [SP2]\n",
       "21       1  [SP2] its a piece of cake believe it or not i ...\n",
       "22       1                                 [SP1] really [SP1]\n",
       "23       1               [SP1] i think thats impossible [SP1]\n",
       "24       1                    [SP2] you mean 30 pushups [SP2]\n",
       "25       1                                   [SP1] yeah [SP1]\n",
       "26       1                               [SP2] its easy [SP2]\n",
       "27       1  [SP2] if you do exercise everyday you can make...\n",
       "28       1                                              <END>\n",
       "29       2                                            <START>\n",
       "30       2        [SP1] can you study with the radio on [SP1]\n",
       "31       2        [SP2] no i listen to background music [SP2]\n",
       "32       2                 [SP1] what is the difference [SP1]\n",
       "33       2       [SP2] the radio has too many comerials [SP2]\n",
       "34       2  [SP1] thats true but then you have to buy a re...\n",
       "35       2                                              <END>"
      ]
     },
     "execution_count": 162,
     "metadata": {},
     "output_type": "execute_result"
    }
   ],
   "source": [
    "train_dataset_full_processed \\\n",
    "    =  preprocess_huggingface_daily_dialog(train_dataset_full) \n",
    "train_dataset_full_processed"
   ]
  },
  {
   "cell_type": "code",
   "execution_count": 164,
   "metadata": {},
   "outputs": [
    {
     "name": "stderr",
     "output_type": "stream",
     "text": [
      "\n",
      "\n",
      "\n",
      "\n",
      "Preprocessing DailyDialog: 100%|██████████| 3/3 [00:00<00:00, 1560.19it/s]\n",
      "\n",
      "\n",
      "\n",
      "\n",
      "Preprocessing DailyDialog: 100%|██████████| 3/3 [00:00<00:00, 2577.41it/s]\n",
      "\n",
      "\n",
      "\n",
      "\n",
      "Preprocessing DailyDialog: 100%|██████████| 3/3 [00:00<00:00, 2619.80it/s]\n"
     ]
    }
   ],
   "source": [
    "# Preprocessing datasets \n",
    "train_dataset_full_processed = \\\n",
    "    preprocess_huggingface_daily_dialog(train_dataset_full) \n",
    "val_dataset_full_processed = \\\n",
    "    preprocess_huggingface_daily_dialog(val_dataset_full) \n",
    "test_dataset_full_processed = \\\n",
    "    preprocess_huggingface_daily_dialog(test_dataset_full) "
   ]
  },
  {
   "cell_type": "code",
   "execution_count": 171,
   "metadata": {},
   "outputs": [],
   "source": [
    "def save_processed_to_file(save_dir, filename,dataset_df):\n",
    "    dataset_df.to_csv(os.path.join(save_dir,filename)+\".csv\")"
   ]
  },
  {
   "cell_type": "code",
   "execution_count": 172,
   "metadata": {},
   "outputs": [
    {
     "data": {
      "text/plain": [
       "'/Users/muhammadumair/Documents/Repositories/mumair01-repos/GPT-Monologue-to-Dialogue/data/processed/daily_dialog_poc'"
      ]
     },
     "execution_count": 172,
     "metadata": {},
     "output_type": "execute_result"
    }
   ],
   "source": [
    "os.makedirs(PROCESSED_DATA_DIR,exist_ok=True)\n",
    "PROCESSED_DATA_DIR"
   ]
  },
  {
   "cell_type": "code",
   "execution_count": 173,
   "metadata": {},
   "outputs": [],
   "source": [
    "# Save the datasets to file \n",
    "save_processed_to_file(PROCESSED_DATA_DIR ,\"train\", train_dataset_full_processed)\n",
    "save_processed_to_file(PROCESSED_DATA_DIR ,\"validation\", val_dataset_full_processed)\n",
    "save_processed_to_file(PROCESSED_DATA_DIR ,\"test\", test_dataset_full_processed)"
   ]
  },
  {
   "cell_type": "code",
   "execution_count": null,
   "metadata": {},
   "outputs": [],
   "source": []
  }
 ],
 "metadata": {
  "kernelspec": {
   "display_name": "Python 3.8.13 ('gpt_proj')",
   "language": "python",
   "name": "python3"
  },
  "language_info": {
   "codemirror_mode": {
    "name": "ipython",
    "version": 3
   },
   "file_extension": ".py",
   "mimetype": "text/x-python",
   "name": "python",
   "nbconvert_exporter": "python",
   "pygments_lexer": "ipython3",
   "version": "3.8.13"
  },
  "orig_nbformat": 4,
  "vscode": {
   "interpreter": {
    "hash": "8226f9d8233b889d814e65b178e86bbabe6dbb1167ee6423a6522d592207fe9c"
   }
  }
 },
 "nbformat": 4,
 "nbformat_minor": 2
}
